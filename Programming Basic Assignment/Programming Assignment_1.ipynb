{
 "cells": [
  {
   "cell_type": "markdown",
   "id": "regulation-third",
   "metadata": {},
   "source": [
    "<B>Write a Python program to print &quot;Hello Python&quot;?</B>"
   ]
  },
  {
   "cell_type": "code",
   "execution_count": 17,
   "id": "sharing-scoop",
   "metadata": {},
   "outputs": [
    {
     "name": "stdout",
     "output_type": "stream",
     "text": [
      "Type input here Hello World\n",
      "Hello World\n"
     ]
    }
   ],
   "source": [
    "def printer():\n",
    "    text = input('Type input here ')\n",
    "    print(text)\n",
    "printer()"
   ]
  },
  {
   "cell_type": "markdown",
   "id": "complex-peter",
   "metadata": {},
   "source": [
    "<b>Write a Python program to do arithmetical operations addition and division.?</b>"
   ]
  },
  {
   "cell_type": "code",
   "execution_count": 24,
   "id": "automatic-awareness",
   "metadata": {},
   "outputs": [
    {
     "name": "stdout",
     "output_type": "stream",
     "text": [
      "23\n",
      "12\n"
     ]
    },
    {
     "data": {
      "text/plain": [
       "('The sum of 23.0 and 12.0 is 35.0', 'The division of 23.0 by 12.0 gives 1.92')"
      ]
     },
     "execution_count": 24,
     "metadata": {},
     "output_type": "execute_result"
    }
   ],
   "source": [
    "def calculator():\n",
    "    variable1 = float(input())\n",
    "    variable2 = float(input())\n",
    "    return(f'The sum of {variable1} and {variable2} is {variable1 + variable2}'), (f'The division of {variable1} by {variable2} gives {round(variable1/variable2,2)}')\n",
    "calculator()"
   ]
  },
  {
   "cell_type": "markdown",
   "id": "provincial-texture",
   "metadata": {},
   "source": [
    "<b>Write a Python program to find the area of a triangle?</b>"
   ]
  },
  {
   "cell_type": "code",
   "execution_count": 60,
   "id": "secure-clothing",
   "metadata": {},
   "outputs": [],
   "source": [
    "import math as m\n",
    "def area():\n",
    "    a = float(input())\n",
    "    b = float(input())\n",
    "    c = float(input())\n",
    "    if (a+b <= c or a+c <= b or b+c <= a) or (abs(a-b) >= c or abs(a-c) >= b or abs(b-c) >= a or abs(b-a) >= c or abs(c-a) >= b or abs(c-b) >= a):\n",
    "        return ('Triangle is invalid with these dimentions')\n",
    "    \n",
    "    else:\n",
    "        s = round((a+b+c)/2,4) # Calculating the semiperimeter\n",
    "        area = m.sqrt(s*(s-a)*(s-b)*(s-c))\n",
    "        return (f'Area of triangle is {round(area,4)}')"
   ]
  },
  {
   "cell_type": "code",
   "execution_count": 61,
   "id": "apart-minute",
   "metadata": {},
   "outputs": [
    {
     "name": "stdout",
     "output_type": "stream",
     "text": [
      "10\n",
      "2\n",
      "6\n"
     ]
    },
    {
     "data": {
      "text/plain": [
       "'Triangle is invalid with these dimentions'"
      ]
     },
     "execution_count": 61,
     "metadata": {},
     "output_type": "execute_result"
    }
   ],
   "source": [
    "area()"
   ]
  },
  {
   "cell_type": "markdown",
   "id": "fantastic-houston",
   "metadata": {},
   "source": [
    "<b>Write a Python program to swap two variables?</b>"
   ]
  },
  {
   "cell_type": "code",
   "execution_count": 65,
   "id": "confident-madonna",
   "metadata": {},
   "outputs": [
    {
     "name": "stdout",
     "output_type": "stream",
     "text": [
      "a\n",
      "f\n",
      "a f\n"
     ]
    },
    {
     "data": {
      "text/plain": [
       "('f', 'a')"
      ]
     },
     "execution_count": 65,
     "metadata": {},
     "output_type": "execute_result"
    }
   ],
   "source": [
    "def swap():\n",
    "    a = input()\n",
    "    b = input()\n",
    "    print(a,b)\n",
    "    temp = a\n",
    "    a = b\n",
    "    b = temp\n",
    "    return a,b\n",
    "swap()"
   ]
  },
  {
   "cell_type": "markdown",
   "id": "smooth-margin",
   "metadata": {},
   "source": [
    "<b>Write a Python program to generate a random number?</b>"
   ]
  },
  {
   "cell_type": "code",
   "execution_count": 89,
   "id": "victorian-session",
   "metadata": {},
   "outputs": [
    {
     "name": "stdout",
     "output_type": "stream",
     "text": [
      "Lower Cap :10\n",
      "Upper Cap : 10\n",
      "Lower and Upper should not be equal. Try again.\n",
      "Lower Cap :1\n",
      "Upper Cap : 1\n",
      "Lower and Upper should not be equal. Try again.\n",
      "Lower Cap :0\n",
      "Upper Cap : 0\n",
      "Lower and Upper should not be equal. Try again.\n",
      "Lower Cap :20\n",
      "Upper Cap : 19\n"
     ]
    },
    {
     "data": {
      "text/plain": [
       "19"
      ]
     },
     "execution_count": 89,
     "metadata": {},
     "output_type": "execute_result"
    }
   ],
   "source": [
    "# importing the random module\n",
    "import random\n",
    "def random_number():\n",
    "    lower = float(input('Lower Cap :'))\n",
    "    upper = float(input('Upper Cap : '))\n",
    "    if lower > upper:\n",
    "        return (random.randint(upper,lower))\n",
    "    elif lower < upper:\n",
    "        return (random.randint(lower,upper))\n",
    "    else:\n",
    "        print('Lower and Upper should not be equal. Try again.')\n",
    "        return random_number()\n",
    "        \n",
    "random_number()"
   ]
  },
  {
   "cell_type": "code",
   "execution_count": null,
   "id": "visible-injury",
   "metadata": {},
   "outputs": [],
   "source": []
  }
 ],
 "metadata": {
  "kernelspec": {
   "display_name": "Python 3",
   "language": "python",
   "name": "python3"
  },
  "language_info": {
   "codemirror_mode": {
    "name": "ipython",
    "version": 3
   },
   "file_extension": ".py",
   "mimetype": "text/x-python",
   "name": "python",
   "nbconvert_exporter": "python",
   "pygments_lexer": "ipython3",
   "version": "3.8.8"
  }
 },
 "nbformat": 4,
 "nbformat_minor": 5
}
