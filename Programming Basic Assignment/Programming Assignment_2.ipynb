{
 "cells": [
  {
   "cell_type": "markdown",
   "id": "regulation-third",
   "metadata": {},
   "source": [
    "<B>Write a Python program to convert kilometers to miles?</B>"
   ]
  },
  {
   "cell_type": "code",
   "execution_count": 3,
   "id": "sharing-scoop",
   "metadata": {},
   "outputs": [
    {
     "name": "stdout",
     "output_type": "stream",
     "text": [
      "Type input here 20.7\n"
     ]
    },
    {
     "data": {
      "text/plain": [
       "'20.7 km is equivalent to 12.8624 miles '"
      ]
     },
     "execution_count": 3,
     "metadata": {},
     "output_type": "execute_result"
    }
   ],
   "source": [
    "def km_to_mile():\n",
    "    km = float(input('Type input here '))\n",
    "    miles = round(km*0.621371192,4)\n",
    "    return(f\"{km} km is equivalent to {miles} miles \")\n",
    "km_to_mile()"
   ]
  },
  {
   "cell_type": "markdown",
   "id": "complex-peter",
   "metadata": {},
   "source": [
    "<b>Write a Python program to convert Celsius to Fahrenheit?</b>"
   ]
  },
  {
   "cell_type": "code",
   "execution_count": 5,
   "id": "automatic-awareness",
   "metadata": {},
   "outputs": [
    {
     "name": "stdout",
     "output_type": "stream",
     "text": [
      "-40\n"
     ]
    },
    {
     "data": {
      "text/plain": [
       "'-40.0 degree celcius is equivalent to -40.0 degree fahrenheit '"
      ]
     },
     "execution_count": 5,
     "metadata": {},
     "output_type": "execute_result"
    }
   ],
   "source": [
    "def celc_to_farh():\n",
    "    temp_celc = float(input())\n",
    "    temp_farh = temp_celc*1.8 + 32\n",
    "    return(f\"{temp_celc} degree celcius is equivalent to {temp_farh} degree fahrenheit \")\n",
    "celc_to_farh()"
   ]
  },
  {
   "cell_type": "markdown",
   "id": "provincial-texture",
   "metadata": {},
   "source": [
    "<b>Write a Python program to display calendar?</b>"
   ]
  },
  {
   "cell_type": "code",
   "execution_count": 95,
   "id": "secure-clothing",
   "metadata": {
    "scrolled": false
   },
   "outputs": [
    {
     "name": "stdout",
     "output_type": "stream",
     "text": [
      "Enter year integral values only: 2021\n",
      "Enter month integral values only: 12\n",
      "\n",
      "=====================\n",
      "   December 2021\n",
      "Mo Tu We Th Fr Sa Su\n",
      "       1  2  3  4  5\n",
      " 6  7  8  9 10 11 12\n",
      "13 14 15 16 17 18 19\n",
      "20 21 22 23 24 25 26\n",
      "27 28 29 30 31\n",
      "====================="
     ]
    }
   ],
   "source": [
    "import calendar\n",
    "\n",
    "def calender_print():\n",
    "    # To take month and year input from the user\n",
    "    def year_foo():\n",
    "        global year\n",
    "        year = int(input(\"Enter year integral values only: \"))\n",
    "        \n",
    "    year_foo()\n",
    "    def month_foo():\n",
    "        global month\n",
    "        month = int(input(\"Enter month integral values only: \"))\n",
    "        \n",
    "        if month not in list(range(1,13)):\n",
    "            print('Try with a integral month value between 1 and 12')\n",
    "            return month_foo()\n",
    "        else:\n",
    "            return month\n",
    "    \n",
    "    month_foo()\n",
    "    print(end = \"\\n=====================\\n\")\n",
    "\n",
    "    # display the calendar\n",
    "    return print(calendar.month(year, month),end = '=====================')\n",
    "calender_print()"
   ]
  },
  {
   "cell_type": "markdown",
   "id": "fantastic-houston",
   "metadata": {},
   "source": [
    "<b>Write a Python program to solve quadratic equation?</b>"
   ]
  },
  {
   "cell_type": "code",
   "execution_count": 57,
   "id": "confident-madonna",
   "metadata": {},
   "outputs": [
    {
     "name": "stdout",
     "output_type": "stream",
     "text": [
      "a = 1\n",
      "b = 3\n",
      "c = 0\n",
      "The quadratic equation to be solved is 1.0x^2 + 3.0x + 0.0 = 0.\n",
      "0.0 and -3.0 are two solutions of this quadratic equation\n"
     ]
    }
   ],
   "source": [
    "import math\n",
    "def solve_quadratic():\n",
    "    a = float(input('a = '))\n",
    "    if a==0: \n",
    "        print('a can never be 0 for a quadratic equation, try some other non zero number')\n",
    "        solve_quadratic()\n",
    "    b = float(input('b = '))\n",
    "    c = float(input('c = '))\n",
    "    \n",
    "    print(f'The quadratic equation to be solved is {a}x^2 + {b}x + {c} = 0.')\n",
    "    if b**2 - 4*a*c < 0:\n",
    "        return '''Solution doesn't exist for this quadratic equation'''\n",
    "    elif b**2 - 4*a*c == 0:\n",
    "        root = -b/(2*a)\n",
    "        print(f'{root} is the only one solution')\n",
    "    else:\n",
    "        d = b**2 - 4*a*c\n",
    "        root1 = (-b + math.sqrt(d))/(2*a)\n",
    "        root2 = (-b - math.sqrt(d))/(2*a)\n",
    "        return print(f'{root1} and {root2} are two solutions of this quadratic equation')\n",
    "solve_quadratic()"
   ]
  },
  {
   "cell_type": "markdown",
   "id": "smooth-margin",
   "metadata": {},
   "source": [
    "<b>Write a Python program to swap two variables without temp variable?</b>"
   ]
  },
  {
   "cell_type": "code",
   "execution_count": 58,
   "id": "victorian-session",
   "metadata": {},
   "outputs": [
    {
     "name": "stdout",
     "output_type": "stream",
     "text": [
      "1\n",
      "2\n",
      "1 2\n"
     ]
    },
    {
     "data": {
      "text/plain": [
       "('2', '1')"
      ]
     },
     "execution_count": 58,
     "metadata": {},
     "output_type": "execute_result"
    }
   ],
   "source": [
    "def swap():\n",
    "    a = input()\n",
    "    b = input()\n",
    "    print(a,b)\n",
    "    a,b = b,a\n",
    "    return a,b\n",
    "swap()"
   ]
  },
  {
   "cell_type": "code",
   "execution_count": null,
   "id": "visible-injury",
   "metadata": {},
   "outputs": [],
   "source": []
  }
 ],
 "metadata": {
  "kernelspec": {
   "display_name": "Python 3",
   "language": "python",
   "name": "python3"
  },
  "language_info": {
   "codemirror_mode": {
    "name": "ipython",
    "version": 3
   },
   "file_extension": ".py",
   "mimetype": "text/x-python",
   "name": "python",
   "nbconvert_exporter": "python",
   "pygments_lexer": "ipython3",
   "version": "3.8.8"
  }
 },
 "nbformat": 4,
 "nbformat_minor": 5
}
