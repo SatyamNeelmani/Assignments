{
 "cells": [
  {
   "cell_type": "markdown",
   "id": "numerous-injury",
   "metadata": {},
   "source": [
    "<b>Question1</b> <br>\n",
    "Create a function that takes an integer and returns a list from 1 to the given number, where:<br>\n",
    "1. If the number can be divided evenly by 4, amplify it by 10 (i.e. return 10 times the\n",
    "number).<br>\n",
    "2. If the number cannot be divided evenly by 4, simply return the number.<br>\n",
    "Examples<br>\n",
    "amplify(4) ➞ [1, 2, 3, 40]<br>\n",
    "amplify(3) ➞ [1, 2, 3]<br>\n",
    "amplify(25) ➞ [1, 2, 3, 40, 5, 6, 7, 80, 9, 10, 11, 120, 13, 14, 15, 160,\n",
    "17, 18, 19, 200, 21, 22, 23, 240, 25]<br>\n",
    "Notes<br>\n",
    " The given integer will always be equal to or greater than 1.<br>\n",
    " Include the number (see example above).<br>\n",
    " To perform this problem with its intended purpose, try doing it with list\n",
    "comprehensions. If that's too difficult, just solve the challenge any way you can."
   ]
  },
  {
   "cell_type": "code",
   "execution_count": 22,
   "id": "lined-tablet",
   "metadata": {},
   "outputs": [
    {
     "name": "stdout",
     "output_type": "stream",
     "text": [
      "Function output = [1, 2, 3, 40]\n",
      "Expected output = [1, 2, 3, 40]\n",
      "\n",
      "Function output = [1, 2, 3]\n",
      "Expected output = [1, 2, 3]\n",
      "\n",
      "Function output = [1, 2, 3, 40, 5, 6, 7, 80, 9, 10, 11, 120, 13, 14, 15, 160, 17, 18, 19, 200, 21, 22, 23, 240, 25]\n",
      "Expected output = [1, 2, 3, 40, 5, 6, 7, 80, 9, 10, 11, 120, 13, 14, 15, 160, 17, 18, 19, 200, 21, 22, 23, 240, 25]\n",
      "\n"
     ]
    }
   ],
   "source": [
    "def amplify(num):\n",
    "    list_ = [x for x in (range(1,num+1))]\n",
    "    for i in range(3,num,4):\n",
    "        list_[i] = 10*list_[i]\n",
    "    return list_\n",
    "\n",
    "print('Function output =',amplify(4))\n",
    "print('Expected output = [1, 2, 3, 40]', end = \"\\n\\n\")\n",
    "\n",
    "print('Function output =',amplify(3))\n",
    "print('Expected output = [1, 2, 3]', end = \"\\n\\n\")\n",
    "\n",
    "print('Function output =',amplify(25))\n",
    "print('Expected output = [1, 2, 3, 40, 5, 6, 7, 80, 9, 10, 11, 120, 13, 14, 15, 160, 17, 18, 19, 200, 21, 22, 23, 240, 25]', end = \"\\n\\n\")"
   ]
  },
  {
   "cell_type": "markdown",
   "id": "regulation-third",
   "metadata": {},
   "source": [
    "<B>\n",
    "Question2 <br>\n",
    "Create a function that takes a list of numbers and return the number that&#39;s unique.</b><br>\n",
    "Examples<br>\n",
    "unique([3, 3, 3, 7, 3, 3]) ➞ 7<br>\n",
    "unique([0, 0, 0.77, 0, 0]) ➞ 0.77<br>\n",
    "unique([0, 1, 1, 1, 1, 1, 1, 1]) ➞ 0<br>\n",
    "Notes<br>\n",
    "Test cases will always have exactly one unique number while all others are the same."
   ]
  },
  {
   "cell_type": "code",
   "execution_count": 32,
   "id": "sharing-scoop",
   "metadata": {
    "scrolled": false
   },
   "outputs": [
    {
     "name": "stdout",
     "output_type": "stream",
     "text": [
      "Function output = 7\n",
      "Expected output = 7\n",
      "\n",
      "Function output = 0.77\n",
      "Expected output = 0.77\n",
      "\n",
      "Function output = 0\n",
      "Expected output = 0\n",
      "\n"
     ]
    }
   ],
   "source": [
    "input_list1 = [3, 3, 3, 7, 3, 3]\n",
    "input_list2 = [0, 0, 0.77, 0, 0]\n",
    "input_list3 = [0, 1, 1, 1, 1, 1, 1, 1]\n",
    "\n",
    "def unique(input_list):\n",
    "    unique_dictionary = {}\n",
    "    unique_list = []\n",
    "    for num in input_list:\n",
    "        if num not in unique_list:\n",
    "            unique_list.append(num)\n",
    "            unique_dictionary[num] =  1\n",
    "        else:\n",
    "            unique_dictionary[num] =  unique_dictionary[num] +  1\n",
    "    sorted_tuples = sorted(unique_dictionary.items(), key=lambda item: item[1])\n",
    "    sorted_dict = {k: v for k, v in sorted_tuples}\n",
    "    return list(sorted_dict.items())[0][0]\n",
    "\n",
    "print('Function output =',unique(input_list1))\n",
    "print('Expected output = 7', end = \"\\n\\n\")\n",
    "\n",
    "print('Function output =',unique(input_list2))\n",
    "print('Expected output = 0.77', end = \"\\n\\n\")\n",
    "\n",
    "print('Function output =',unique(input_list3))\n",
    "print('Expected output = 0', end = \"\\n\\n\")"
   ]
  },
  {
   "cell_type": "markdown",
   "id": "complex-peter",
   "metadata": {},
   "source": [
    "<b>Question3<br></b>\n",
    "\n",
    "Your task is to create a Circle constructor that creates a circle with a radius provided by an\n",
    "argument. The circles constructed must have two getters getArea() (PIr^2) and\n",
    "getPerimeter() (2PI*r) which give both respective areas and perimeter (circumference).\n",
    "\n",
    "Round results up to the nearest integer."
   ]
  },
  {
   "cell_type": "code",
   "execution_count": 39,
   "id": "automatic-awareness",
   "metadata": {
    "scrolled": true
   },
   "outputs": [
    {
     "name": "stdout",
     "output_type": "stream",
     "text": [
      "380\n",
      "69\n"
     ]
    }
   ],
   "source": [
    "class Circle():\n",
    "    def __init__(self, r):\n",
    "        self.radius = r\n",
    "\n",
    "    def getArea(self):\n",
    "        return round(self.radius**2*3.14)\n",
    "    \n",
    "    def getPerimeter(self):\n",
    "        return round(2*self.radius*3.14)\n",
    "\n",
    "NewCircle = Circle(11)\n",
    "print(NewCircle.getArea())\n",
    "print(NewCircle.getPerimeter())"
   ]
  },
  {
   "cell_type": "markdown",
   "id": "provincial-texture",
   "metadata": {},
   "source": [
    "<b>Question4</b><br> \n",
    "Create a function that takes a list of strings and return a list, sorted from shortest to longest.<br> \n",
    "Examples<br> \n",
    "sort_by_length([&quot;Google&quot;, &quot;Apple&quot;, &quot;Microsoft&quot;])<br> \n",
    "➞ [&quot;Apple&quot;, &quot;Google&quot;, &quot;Microsoft&quot;]<br> \n",
    "sort_by_length([&quot;Leonardo&quot;, &quot;Michelangelo&quot;, &quot;Raphael&quot;, &quot;Donatello&quot;])<br> \n",
    "➞ [&quot;Raphael&quot;, &quot;Leonardo&quot;, &quot;Donatello&quot;, &quot;Michelangelo&quot;]<br> \n",
    "sort_by_length([&quot;Turing&quot;, &quot;Einstein&quot;, &quot;Jung&quot;])<br> \n",
    "➞ [&quot;Jung&quot;, &quot;Turing&quot;, &quot;Einstein&quot;]<br> \n",
    "Notes<br> \n",
    "All test cases contain lists with strings of different lengths, so you won&#39;t have to deal with\n",
    "multiple strings of the same length."
   ]
  },
  {
   "cell_type": "code",
   "execution_count": 55,
   "id": "correct-guinea",
   "metadata": {},
   "outputs": [
    {
     "name": "stdout",
     "output_type": "stream",
     "text": [
      "Original String = ['Google', 'Apple', 'Microsoft']\n",
      "Expected Output = [\"Apple\", \"Google\", \"Microsoft\"]\n",
      "Function Output = ['Apple', 'Google', 'Microsoft']\n",
      "\n",
      "Original String = ['Leonardo', 'Michelangelo', 'Raphael', 'Donatello']\n",
      "Expected Output = [\"Raphael\", \"Leonardo\", \"Donatello\", \"Michelangelo\"]\n",
      "Function Output = ['Raphael', 'Leonardo', 'Donatello', 'Michelangelo']\n",
      "\n",
      "Original String = ['Turing', 'Einstein', 'Jung']\n",
      "Expected Output = [\"Jung\", \"Turing\", \"Einstein\"]\n",
      "Function Output = ['Jung', 'Turing', 'Einstein']\n"
     ]
    }
   ],
   "source": [
    "# Using the mergesort\n",
    "def MergeStringSort(string):\n",
    "    if len(string) > 1:\n",
    "\n",
    "        # Finding the mid of the array\n",
    "        mid = len(string)//2\n",
    "\n",
    "        # Dividing the array elements\n",
    "        L = string[:mid]\n",
    "\n",
    "        # into 2 halves\n",
    "        R = string[mid:]\n",
    "\n",
    "        # Sorting the first half\n",
    "        mergeSort(L)\n",
    "\n",
    "        # Sorting the second half\n",
    "        mergeSort(R)\n",
    "\n",
    "        i = j = k = 0\n",
    "\n",
    "        # Copy data to temp arrays L[] and R[]\n",
    "        while i < len(L) and j < len(R):\n",
    "            if len(L[i]) < len(R[j]):\n",
    "                string[k] = L[i]\n",
    "                i += 1\n",
    "            else:\n",
    "                string[k] = R[j]\n",
    "                j += 1\n",
    "            k += 1\n",
    "\n",
    "        # Checking if any element was left\n",
    "        while i < len(L):\n",
    "            string[k] = L[i]\n",
    "            i += 1\n",
    "            k += 1\n",
    "\n",
    "        while j < len(R):\n",
    "            string[k] = R[j]\n",
    "            j += 1\n",
    "            k += 1\n",
    "    return string\n",
    "\n",
    "string1 = [\"Google\", \"Apple\", \"Microsoft\"]\n",
    "string2 = [\"Leonardo\", \"Michelangelo\", \"Raphael\", \"Donatello\"]\n",
    "string3  = [\"Turing\", \"Einstein\", \"Jung\"]\n",
    "\n",
    "print('Original String =',string1)\n",
    "print('Expected Output = [\"Apple\", \"Google\", \"Microsoft\"]')\n",
    "print('Function Output =',MergeStringSort(string1), end = '\\n\\n')\n",
    "\n",
    "print('Original String =',string2)\n",
    "print('Expected Output = [\"Raphael\", \"Leonardo\", \"Donatello\", \"Michelangelo\"]')\n",
    "print('Function Output =',MergeStringSort(string2), end = '\\n\\n')\n",
    "\n",
    "print('Original String =',string3)\n",
    "print('Expected Output = [\"Jung\", \"Turing\", \"Einstein\"]')\n",
    "print('Function Output =',MergeStringSort(string3))\n"
   ]
  },
  {
   "cell_type": "markdown",
   "id": "fantastic-houston",
   "metadata": {},
   "source": [
    "<b>Question 5 <br></b>\n",
    "Create a function that validates whether three given integers form a Pythagorean triplet. The\n",
    "sum of the squares of the two smallest integers must equal the square of the largest number to\n",
    "be validated.\n",
    "\n",
    "Examples<br>\n",
    "is_triplet(3, 4, 5) ➞ True<br>\n",
    "3² + 4² = 25<br>\n",
    "5² = 25<br>\n",
    "is_triplet(13, 5, 12) ➞ True<br>\n",
    "5² + 12² = 169<br>\n",
    "13² = 169<br>\n",
    "is_triplet(1, 2, 3) ➞ False<br>\n",
    "1² + 2² = 5<br>\n",
    "3² = 9<br>\n",
    "Notes<br>\n",
    "Numbers may not be given in a sorted order."
   ]
  },
  {
   "cell_type": "code",
   "execution_count": 2,
   "id": "confident-madonna",
   "metadata": {},
   "outputs": [
    {
     "name": "stdout",
     "output_type": "stream",
     "text": [
      "Input = (3, 4, 5)\n",
      "Enter first number: 3\n",
      "Enter second number: 4\n",
      "Enter third number: 5\n",
      "Function Output = True\n",
      "Expected Output = True\n",
      "\n",
      "Input = (13, 5, 12)\n",
      "Enter first number: 13\n",
      "Enter second number: 5\n",
      "Enter third number: 12\n",
      "Function Output = True\n",
      "Expected Output = True\n",
      "\n",
      "Input = (1, 2, 3)\n",
      "Enter first number: 1\n",
      "Enter second number: 2\n",
      "Enter third number: 3\n",
      "Function Output = false\n",
      "Expected Output = False\n"
     ]
    }
   ],
   "source": [
    "def maximum(a,b,c):\n",
    "    global high, num1,num2\n",
    "    \n",
    "    if a>b:\n",
    "        if a>c:\n",
    "            high,num1,num2 = a, b,c\n",
    "            return high, num1,num2\n",
    "        elif a<c:\n",
    "            high,num1,num2 = c,a,b\n",
    "            return high, num1,num2\n",
    "    if a<b:\n",
    "        if b<c:\n",
    "            high,num1,num2 = c,a,b\n",
    "            return high, num1,num2\n",
    "        elif b>c:\n",
    "            high,num1,num2 = b,a,c\n",
    "            return high, num1,num2\n",
    "\n",
    "def is_triplet():\n",
    "    a = int(input('Enter first number: '))\n",
    "    b = int(input('Enter second number: '))\n",
    "    c = int(input('Enter third number: '))\n",
    "    \n",
    "    high,num1,num2 = maximum(a,b,c)\n",
    "    if high**2 == num1**2 + num2**2:\n",
    "        return ('True')\n",
    "    else:\n",
    "        return ('false')\n",
    "string1 = (3, 4, 5)\n",
    "print('Input =',string1)\n",
    "print('Function Output =',is_triplet())\n",
    "print('Expected Output = True', end = '\\n\\n')\n",
    "\n",
    "string2 = (13, 5, 12)\n",
    "print('Input =',string2)\n",
    "print('Function Output =',is_triplet())\n",
    "print('Expected Output = True', end = '\\n\\n')\n",
    "\n",
    "string3 = (1,2,3)\n",
    "print('Input =',string3)\n",
    "print('Function Output =',is_triplet())\n",
    "print('Expected Output = False')"
   ]
  },
  {
   "cell_type": "code",
   "execution_count": null,
   "id": "supported-square",
   "metadata": {},
   "outputs": [],
   "source": []
  }
 ],
 "metadata": {
  "kernelspec": {
   "display_name": "Python 3",
   "language": "python",
   "name": "python3"
  },
  "language_info": {
   "codemirror_mode": {
    "name": "ipython",
    "version": 3
   },
   "file_extension": ".py",
   "mimetype": "text/x-python",
   "name": "python",
   "nbconvert_exporter": "python",
   "pygments_lexer": "ipython3",
   "version": "3.8.8"
  }
 },
 "nbformat": 4,
 "nbformat_minor": 5
}
