{
 "cells": [
  {
   "cell_type": "markdown",
   "id": "critical-aging",
   "metadata": {},
   "source": [
    "### Write a Python Program to Find the Factorial of a Number?"
   ]
  },
  {
   "cell_type": "code",
   "execution_count": 2,
   "id": "hired-listening",
   "metadata": {},
   "outputs": [
    {
     "name": "stdout",
     "output_type": "stream",
     "text": [
      "1\n",
      "1\n",
      "120\n"
     ]
    }
   ],
   "source": [
    "# Using for loop\n",
    "def factorial(num):\n",
    "    if num == 1 or num == 0:\n",
    "        return 1\n",
    "    else:\n",
    "        x = 1\n",
    "        for i in range(1,num+1):\n",
    "            x = x*i\n",
    "        return x\n",
    "print(factorial(0))\n",
    "print(factorial(1))\n",
    "print(factorial(5))"
   ]
  },
  {
   "cell_type": "code",
   "execution_count": 5,
   "id": "realistic-robert",
   "metadata": {},
   "outputs": [
    {
     "name": "stdout",
     "output_type": "stream",
     "text": [
      "1\n",
      "1\n",
      "120\n"
     ]
    }
   ],
   "source": [
    "# Using recursion\n",
    "def factorial(num):\n",
    "    if num == 1 or num == 0:\n",
    "        return 1\n",
    "    else:\n",
    "        return num*factorial(num-1)\n",
    "print(factorial(0))\n",
    "print(factorial(1))\n",
    "print(factorial(5))"
   ]
  },
  {
   "cell_type": "markdown",
   "id": "grave-ghost",
   "metadata": {},
   "source": [
    "### Write a Python Program to Display the multiplication Table? "
   ]
  },
  {
   "cell_type": "code",
   "execution_count": 9,
   "id": "urban-blind",
   "metadata": {},
   "outputs": [
    {
     "name": "stdout",
     "output_type": "stream",
     "text": [
      "Display multiplication table of 16\n",
      "16 x 1 = 16\n",
      "16 x 2 = 32\n",
      "16 x 3 = 48\n",
      "16 x 4 = 64\n",
      "16 x 5 = 80\n",
      "16 x 6 = 96\n",
      "16 x 7 = 112\n",
      "16 x 8 = 128\n",
      "16 x 9 = 144\n",
      "16 x 10 = 160\n"
     ]
    }
   ],
   "source": [
    "# Multiplication table (from 1 to 10)\n",
    "\n",
    "def multiplication_table():\n",
    "\n",
    "    num = int(input(\"Display multiplication table of \"))\n",
    "\n",
    "    for i in range(1, 11):\n",
    "        print(num, 'x', i, '=', num*i)\n",
    "multiplication_table()"
   ]
  },
  {
   "cell_type": "markdown",
   "id": "middle-thunder",
   "metadata": {},
   "source": [
    "### Write a Python Program to Print the Fibonacci sequence?"
   ]
  },
  {
   "cell_type": "code",
   "execution_count": 21,
   "id": "instrumental-america",
   "metadata": {},
   "outputs": [
    {
     "name": "stdout",
     "output_type": "stream",
     "text": [
      "0, 1, 1, 2, 3, 5, 8, 13, 21, 34, 55, 89, 144, 233, 377, "
     ]
    }
   ],
   "source": [
    "def fibonacci(num):\n",
    "    n1 , n2 = 0, 1\n",
    "    print(n1, end = \", \")\n",
    "    print(n2, end = \", \")\n",
    "    for i in range(num-2):\n",
    "        n3 = n1+n2\n",
    "        print(n3, end = \", \")\n",
    "        n1 = n2\n",
    "        n2 = n3  \n",
    "fibonacci(15)"
   ]
  },
  {
   "cell_type": "markdown",
   "id": "split-pressing",
   "metadata": {},
   "source": [
    "### Write a Python Program to Check Armstrong Number? "
   ]
  },
  {
   "cell_type": "code",
   "execution_count": 44,
   "id": "sharing-favor",
   "metadata": {},
   "outputs": [
    {
     "name": "stdout",
     "output_type": "stream",
     "text": [
      "True\n",
      "False\n"
     ]
    }
   ],
   "source": [
    "def armstrong(number):\n",
    "    sum_ = 0\n",
    "    local = number\n",
    "    order = len(str(number))\n",
    "    while local > 0:\n",
    "        digit = local % 10\n",
    "        sum_ += digit**order\n",
    "        local //= 10\n",
    "        \n",
    "    if number == sum_:\n",
    "        return True\n",
    "    else:\n",
    "        return False\n",
    "    \n",
    "print(armstrong(153))\n",
    "print(armstrong(663))"
   ]
  },
  {
   "cell_type": "markdown",
   "id": "abandoned-volunteer",
   "metadata": {},
   "source": [
    "### Write a Python Program to Find Armstrong Number in an Interval? "
   ]
  },
  {
   "cell_type": "code",
   "execution_count": 46,
   "id": "defensive-endorsement",
   "metadata": {},
   "outputs": [
    {
     "name": "stdout",
     "output_type": "stream",
     "text": [
      "153 is an Armstrong number.\n",
      "370 is an Armstrong number.\n",
      "371 is an Armstrong number.\n",
      "407 is an Armstrong number.\n",
      "1634 is an Armstrong number.\n"
     ]
    }
   ],
   "source": [
    "def armstrong(lower,upper):\n",
    "    for number in range(lower,upper + 1):\n",
    "        sum_ = 0\n",
    "        local = number\n",
    "        order = len(str(number))\n",
    "        while local > 0:\n",
    "            digit = local % 10\n",
    "            sum_ += digit**order\n",
    "            local //= 10\n",
    "\n",
    "        if number == sum_:\n",
    "            print(f'{number} is an Armstrong number.')\n",
    "        else:\n",
    "            continue\n",
    "armstrong(100,2000)"
   ]
  },
  {
   "cell_type": "markdown",
   "id": "verbal-pacific",
   "metadata": {},
   "source": [
    "### Write a Python Program to Find the Sum of Natural Numbers? "
   ]
  },
  {
   "cell_type": "code",
   "execution_count": 10,
   "id": "specialized-order",
   "metadata": {},
   "outputs": [
    {
     "name": "stdout",
     "output_type": "stream",
     "text": [
      "55\n",
      "1\n",
      "15\n"
     ]
    }
   ],
   "source": [
    "# Using for loop\n",
    "def add(num):\n",
    "    if num == 1:\n",
    "        return 1\n",
    "    else:\n",
    "        sum_ = 0\n",
    "        for i in range(1,num+1):\n",
    "            sum_ = sum_ + i\n",
    "        return sum_\n",
    "print(add(10))\n",
    "print(add(1))\n",
    "print(add(5))"
   ]
  },
  {
   "cell_type": "code",
   "execution_count": 12,
   "id": "indoor-shoot",
   "metadata": {},
   "outputs": [
    {
     "name": "stdout",
     "output_type": "stream",
     "text": [
      "55.0\n",
      "1.0\n",
      "15.0\n"
     ]
    }
   ],
   "source": [
    "# Using mathematical formula\n",
    "def add(num):\n",
    "    sum_ = num*(num+1)/2\n",
    "    return sum_\n",
    "print(add(10))\n",
    "print(add(1))\n",
    "print(add(5))"
   ]
  },
  {
   "cell_type": "code",
   "execution_count": 13,
   "id": "three-support",
   "metadata": {},
   "outputs": [
    {
     "name": "stdout",
     "output_type": "stream",
     "text": [
      "55\n",
      "1\n",
      "15\n"
     ]
    }
   ],
   "source": [
    "# Using recurion\n",
    "def add(num):\n",
    "    if num == 1:\n",
    "        return 1\n",
    "    else:\n",
    "        return num + add(num-1)\n",
    "print(add(10))\n",
    "print(add(1))\n",
    "print(add(5))"
   ]
  }
 ],
 "metadata": {
  "kernelspec": {
   "display_name": "Python 3",
   "language": "python",
   "name": "python3"
  },
  "language_info": {
   "codemirror_mode": {
    "name": "ipython",
    "version": 3
   },
   "file_extension": ".py",
   "mimetype": "text/x-python",
   "name": "python",
   "nbconvert_exporter": "python",
   "pygments_lexer": "ipython3",
   "version": "3.8.8"
  }
 },
 "nbformat": 4,
 "nbformat_minor": 5
}
